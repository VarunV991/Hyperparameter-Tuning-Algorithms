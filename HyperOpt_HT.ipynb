{
  "nbformat": 4,
  "nbformat_minor": 0,
  "metadata": {
    "colab": {
      "name": "HyperOpt HT.ipynb",
      "provenance": [],
      "collapsed_sections": [],
      "authorship_tag": "ABX9TyNJxw1atGunA40fWR19V8Id",
      "include_colab_link": true
    },
    "kernelspec": {
      "name": "python3",
      "display_name": "Python 3"
    }
  },
  "cells": [
    {
      "cell_type": "markdown",
      "metadata": {
        "id": "view-in-github",
        "colab_type": "text"
      },
      "source": [
        "<a href=\"https://colab.research.google.com/github/VarunV991/Hyperparameter-Tuning-Algorithms/blob/master/HyperOpt_HT.ipynb\" target=\"_parent\"><img src=\"https://colab.research.google.com/assets/colab-badge.svg\" alt=\"Open In Colab\"/></a>"
      ]
    },
    {
      "cell_type": "code",
      "metadata": {
        "id": "Vk2kb5t306Zb",
        "outputId": "9f31f409-c70f-4d13-e06e-e6e22fadbe7c",
        "colab": {
          "base_uri": "https://localhost:8080/",
          "height": 176
        }
      },
      "source": [
        "# Install hyperopt Library\n",
        "!pip install hyperopt"
      ],
      "execution_count": 1,
      "outputs": [
        {
          "output_type": "stream",
          "text": [
            "Requirement already satisfied: hyperopt in /usr/local/lib/python3.6/dist-packages (0.1.2)\n",
            "Requirement already satisfied: networkx in /usr/local/lib/python3.6/dist-packages (from hyperopt) (2.5)\n",
            "Requirement already satisfied: numpy in /usr/local/lib/python3.6/dist-packages (from hyperopt) (1.18.5)\n",
            "Requirement already satisfied: six in /usr/local/lib/python3.6/dist-packages (from hyperopt) (1.15.0)\n",
            "Requirement already satisfied: pymongo in /usr/local/lib/python3.6/dist-packages (from hyperopt) (3.11.0)\n",
            "Requirement already satisfied: scipy in /usr/local/lib/python3.6/dist-packages (from hyperopt) (1.4.1)\n",
            "Requirement already satisfied: future in /usr/local/lib/python3.6/dist-packages (from hyperopt) (0.16.0)\n",
            "Requirement already satisfied: tqdm in /usr/local/lib/python3.6/dist-packages (from hyperopt) (4.41.1)\n",
            "Requirement already satisfied: decorator>=4.3.0 in /usr/local/lib/python3.6/dist-packages (from networkx->hyperopt) (4.4.2)\n"
          ],
          "name": "stdout"
        }
      ]
    },
    {
      "cell_type": "code",
      "metadata": {
        "id": "HKo2udSekB3e"
      },
      "source": [
        "import pandas as pd\n",
        "import numpy as np\n",
        "import warnings\n",
        "\n",
        "from sklearn.ensemble import RandomForestClassifier\n",
        "from sklearn.model_selection import StratifiedKFold\n",
        "from sklearn.metrics import accuracy_score\n",
        "from sklearn import datasets\n",
        "from functools import partial\n",
        "from hyperopt import hp,fmin,tpe,Trials\n",
        "from hyperopt.pyll.base import scope\n",
        "\n",
        "warnings.filterwarnings(\"ignore\")"
      ],
      "execution_count": 13,
      "outputs": []
    },
    {
      "cell_type": "code",
      "metadata": {
        "id": "uTl0rqSltTqi"
      },
      "source": [
        " #--------- Custom Dataset -----------#\n",
        "\n",
        "iris = datasets.load_iris()\n",
        "X = iris.data[:,:2]\n",
        "y = iris.target\n",
        "\n",
        " #--------- Custom Dataset -----------#"
      ],
      "execution_count": 8,
      "outputs": []
    },
    {
      "cell_type": "markdown",
      "metadata": {
        "id": "4oGSaV-1yLYG"
      },
      "source": [
        "## Using Hyperopt library"
      ]
    },
    {
      "cell_type": "code",
      "metadata": {
        "id": "EVjxXOb4xcA_"
      },
      "source": [
        "def optimize(params,x,y):\n",
        "\n",
        "  #--------- Custom Code/Model -----------#\n",
        "\n",
        "  model = RandomForestClassifier(**params)\n",
        "  kf = StratifiedKFold(n_splits=5)\n",
        "\n",
        "  #--------- Custom Code/Model -----------#\n",
        "\n",
        "  # Cross Validation split\n",
        "  accuracies = []\n",
        "  for idx in kf.split(X=x,y=y):\n",
        "    train_idx,val_idx = idx[0],idx[1]\n",
        "    # Train\n",
        "    Xtrain = x[train_idx]\n",
        "    ytrain = y[train_idx]\n",
        "    # Validation\n",
        "    Xval = x[val_idx]\n",
        "    yval = y[val_idx]\n",
        "\n",
        "    model.fit(Xtrain,ytrain)\n",
        "    pred = model.predict(Xval)\n",
        "    fold_acc = accuracy_score(yval,pred)\n",
        "    accuracies.append(fold_acc)\n",
        "  \n",
        "  return -1.0 * np.mean(accuracies)"
      ],
      "execution_count": 17,
      "outputs": []
    },
    {
      "cell_type": "code",
      "metadata": {
        "id": "m9sBAsYt0RVd"
      },
      "source": [
        "param_space = {\n",
        "    \"max_depth\":scope.int(hp.quniform(\"max_depth\",3,15,1)),\n",
        "    \"n_estimators\":scope.int(hp.quniform(\"n_estimators\",100,600,100)),\n",
        "    \"criterion\":hp.choice(\"criterion\",[\"gini\",\"entropy\"]),\n",
        "    \"max_features\":hp.uniform(\"max_features\",0.01,1)\n",
        "}\n",
        "\n",
        "optimization_function = partial(optimize,x = X,y=y)\n",
        "trials = Trials()"
      ],
      "execution_count": 18,
      "outputs": []
    },
    {
      "cell_type": "code",
      "metadata": {
        "id": "T5bjd50R2eFq",
        "outputId": "d06ea187-1125-4468-c92c-21e97243d947",
        "colab": {
          "base_uri": "https://localhost:8080/",
          "height": 34
        }
      },
      "source": [
        "result = fmin(fn = optimization_function,\n",
        "                     space=param_space,\n",
        "                     max_evals=15,\n",
        "                     trials=trials,\n",
        "                      algo=tpe.suggest)"
      ],
      "execution_count": 19,
      "outputs": [
        {
          "output_type": "stream",
          "text": [
            "100%|██████████| 15/15 [00:38<00:00,  2.58s/it, best loss: -0.7866666666666667]\n"
          ],
          "name": "stdout"
        }
      ]
    },
    {
      "cell_type": "code",
      "metadata": {
        "id": "J4c37H7U28GK",
        "outputId": "73c1ab70-2e0c-4da8-f98b-9865601b78a0",
        "colab": {
          "base_uri": "https://localhost:8080/",
          "height": 34
        }
      },
      "source": [
        "print(result)"
      ],
      "execution_count": 21,
      "outputs": [
        {
          "output_type": "stream",
          "text": [
            "{'criterion': 1, 'max_depth': 5.0, 'max_features': 0.6607198134304393, 'n_estimators': 400.0}\n"
          ],
          "name": "stdout"
        }
      ]
    },
    {
      "cell_type": "markdown",
      "metadata": {
        "id": "jR79trQ88ibX"
      },
      "source": [
        "#### Here, for the categorical values, the output is the index of the optimal parameter in the param array"
      ]
    },
    {
      "cell_type": "code",
      "metadata": {
        "id": "cwO4ZW-h3iTZ"
      },
      "source": [
        ""
      ],
      "execution_count": null,
      "outputs": []
    }
  ]
}