{
  "nbformat": 4,
  "nbformat_minor": 0,
  "metadata": {
    "colab": {
      "name": "Bayesian Optimization-GP HT.ipynb",
      "provenance": [],
      "collapsed_sections": [],
      "authorship_tag": "ABX9TyOqbR2GjE8NcknBbIMYBLyM"
    },
    "kernelspec": {
      "name": "python3",
      "display_name": "Python 3"
    }
  },
  "cells": [
    {
      "cell_type": "code",
      "metadata": {
        "id": "Vk2kb5t306Zb",
        "outputId": "d87d6a33-49a7-485c-c833-0108f8dc744c",
        "colab": {
          "base_uri": "https://localhost:8080/",
          "height": 250
        }
      },
      "source": [
        "# Install Sckit-learn Optimization Library\n",
        "!pip install scikit-optimize"
      ],
      "execution_count": 11,
      "outputs": [
        {
          "output_type": "stream",
          "text": [
            "Collecting scikit-optimize\n",
            "\u001b[?25l  Downloading https://files.pythonhosted.org/packages/8b/03/be33e89f55866065a02e515c5b319304a801a9f1027a9b311a9b1d1f8dc7/scikit_optimize-0.8.1-py2.py3-none-any.whl (101kB)\n",
            "\r\u001b[K     |███▎                            | 10kB 10.7MB/s eta 0:00:01\r\u001b[K     |██████▌                         | 20kB 1.8MB/s eta 0:00:01\r\u001b[K     |█████████▊                      | 30kB 2.2MB/s eta 0:00:01\r\u001b[K     |█████████████                   | 40kB 2.6MB/s eta 0:00:01\r\u001b[K     |████████████████▏               | 51kB 2.0MB/s eta 0:00:01\r\u001b[K     |███████████████████▍            | 61kB 2.3MB/s eta 0:00:01\r\u001b[K     |██████████████████████▊         | 71kB 2.5MB/s eta 0:00:01\r\u001b[K     |██████████████████████████      | 81kB 2.8MB/s eta 0:00:01\r\u001b[K     |█████████████████████████████▏  | 92kB 2.9MB/s eta 0:00:01\r\u001b[K     |████████████████████████████████| 102kB 2.3MB/s \n",
            "\u001b[?25hRequirement already satisfied: scikit-learn>=0.20.0 in /usr/local/lib/python3.6/dist-packages (from scikit-optimize) (0.22.2.post1)\n",
            "Requirement already satisfied: scipy>=0.19.1 in /usr/local/lib/python3.6/dist-packages (from scikit-optimize) (1.4.1)\n",
            "Collecting pyaml>=16.9\n",
            "  Downloading https://files.pythonhosted.org/packages/15/c4/1310a054d33abc318426a956e7d6df0df76a6ddfa9c66f6310274fb75d42/pyaml-20.4.0-py2.py3-none-any.whl\n",
            "Requirement already satisfied: numpy>=1.13.3 in /usr/local/lib/python3.6/dist-packages (from scikit-optimize) (1.18.5)\n",
            "Requirement already satisfied: joblib>=0.11 in /usr/local/lib/python3.6/dist-packages (from scikit-optimize) (0.16.0)\n",
            "Requirement already satisfied: PyYAML in /usr/local/lib/python3.6/dist-packages (from pyaml>=16.9->scikit-optimize) (3.13)\n",
            "Installing collected packages: pyaml, scikit-optimize\n",
            "Successfully installed pyaml-20.4.0 scikit-optimize-0.8.1\n"
          ],
          "name": "stdout"
        }
      ]
    },
    {
      "cell_type": "code",
      "metadata": {
        "id": "HKo2udSekB3e"
      },
      "source": [
        "import pandas as pd\n",
        "import numpy as np\n",
        "import warnings\n",
        "\n",
        "from sklearn.ensemble import RandomForestClassifier\n",
        "from sklearn.model_selection import StratifiedKFold\n",
        "from sklearn.metrics import accuracy_score\n",
        "from sklearn import datasets\n",
        "from functools import partial\n",
        "from skopt import space,gp_minimize\n",
        "\n",
        "warnings.filterwarnings(\"ignore\")"
      ],
      "execution_count": 16,
      "outputs": []
    },
    {
      "cell_type": "code",
      "metadata": {
        "id": "uTl0rqSltTqi"
      },
      "source": [
        " #--------- Custom Dataset -----------#\n",
        "\n",
        "iris = datasets.load_iris()\n",
        "X = iris.data[:,:2]\n",
        "y = iris.target\n",
        "\n",
        " #--------- Custom Dataset -----------#"
      ],
      "execution_count": 5,
      "outputs": []
    },
    {
      "cell_type": "markdown",
      "metadata": {
        "id": "4oGSaV-1yLYG"
      },
      "source": [
        "## Bayesian Optimization using Gaussian Process"
      ]
    },
    {
      "cell_type": "code",
      "metadata": {
        "id": "EVjxXOb4xcA_"
      },
      "source": [
        "def optimize(params,param_names,x,y):\n",
        "  params = dict(zip(param_names,params))\n",
        "\n",
        "  #--------- Custom Code/Model -----------#\n",
        "\n",
        "  model = RandomForestClassifier(**params)\n",
        "  kf = StratifiedKFold(n_splits=5)\n",
        "\n",
        "  #--------- Custom Code/Model -----------#\n",
        "\n",
        "  # Cross Validation split\n",
        "  accuracies = []\n",
        "  for idx in kf.split(X=x,y=y):\n",
        "    train_idx,val_idx = idx[0],idx[1]\n",
        "    # Train\n",
        "    Xtrain = x[train_idx]\n",
        "    ytrain = y[train_idx]\n",
        "    # Validation\n",
        "    Xval = x[val_idx]\n",
        "    yval = y[val_idx]\n",
        "\n",
        "    model.fit(Xtrain,ytrain)\n",
        "    pred = model.predict(Xval)\n",
        "    fold_acc = accuracy_score(yval,pred)\n",
        "    accuracies.append(fold_acc)\n",
        "  \n",
        "  return -1.0 * np.mean(accuracies)"
      ],
      "execution_count": 8,
      "outputs": []
    },
    {
      "cell_type": "code",
      "metadata": {
        "id": "m9sBAsYt0RVd"
      },
      "source": [
        "param_space = [\n",
        "    space.Integer(3,15,name=\"max_depth\"),\n",
        "    space.Integer(100,600,name=\"n_estimators\"),\n",
        "    space.Categorical([\"gini\",\"entropy\"],name=\"criterion\"),\n",
        "    space.Real(0.01,1,prior=\"uniform\",name=\"max_features\")\n",
        "]\n",
        "\n",
        "param_names = [\n",
        "    \"max_depth\",\n",
        "    \"n_estimators\",\n",
        "    \"criterion\",\n",
        "    \"max_features\"\n",
        "]\n",
        "\n",
        "optimization_function = partial(optimize,param_names=param_names,x = X,y=y)"
      ],
      "execution_count": 15,
      "outputs": []
    },
    {
      "cell_type": "code",
      "metadata": {
        "id": "T5bjd50R2eFq",
        "outputId": "cfd1c3e5-8a08-4fb6-8892-f99a41056af2",
        "colab": {
          "base_uri": "https://localhost:8080/",
          "height": 1000
        }
      },
      "source": [
        "result = gp_minimize(optimization_function,\n",
        "                     dimensions=param_space,\n",
        "                     n_calls=15,\n",
        "                     n_random_starts=10,\n",
        "                     verbose=10)"
      ],
      "execution_count": 18,
      "outputs": [
        {
          "output_type": "stream",
          "text": [
            "Iteration No: 1 started. Evaluating function at random point.\n",
            "Iteration No: 1 ended. Evaluation done at random point.\n",
            "Time taken: 2.8340\n",
            "Function value obtained: -0.8067\n",
            "Current minimum: -0.8067\n",
            "Iteration No: 2 started. Evaluating function at random point.\n",
            "Iteration No: 2 ended. Evaluation done at random point.\n",
            "Time taken: 1.7087\n",
            "Function value obtained: -0.7400\n",
            "Current minimum: -0.8067\n",
            "Iteration No: 3 started. Evaluating function at random point.\n",
            "Iteration No: 3 ended. Evaluation done at random point.\n",
            "Time taken: 2.8642\n",
            "Function value obtained: -0.7467\n",
            "Current minimum: -0.8067\n",
            "Iteration No: 4 started. Evaluating function at random point.\n",
            "Iteration No: 4 ended. Evaluation done at random point.\n",
            "Time taken: 0.8689\n",
            "Function value obtained: -0.7200\n",
            "Current minimum: -0.8067\n",
            "Iteration No: 5 started. Evaluating function at random point.\n",
            "Iteration No: 5 ended. Evaluation done at random point.\n",
            "Time taken: 1.4288\n",
            "Function value obtained: -0.7400\n",
            "Current minimum: -0.8067\n",
            "Iteration No: 6 started. Evaluating function at random point.\n",
            "Iteration No: 6 ended. Evaluation done at random point.\n",
            "Time taken: 1.8891\n",
            "Function value obtained: -0.7733\n",
            "Current minimum: -0.8067\n",
            "Iteration No: 7 started. Evaluating function at random point.\n",
            "Iteration No: 7 ended. Evaluation done at random point.\n",
            "Time taken: 1.5040\n",
            "Function value obtained: -0.7400\n",
            "Current minimum: -0.8067\n",
            "Iteration No: 8 started. Evaluating function at random point.\n",
            "Iteration No: 8 ended. Evaluation done at random point.\n",
            "Time taken: 0.7758\n",
            "Function value obtained: -0.7600\n",
            "Current minimum: -0.8067\n",
            "Iteration No: 9 started. Evaluating function at random point.\n",
            "Iteration No: 9 ended. Evaluation done at random point.\n",
            "Time taken: 1.9692\n",
            "Function value obtained: -0.7267\n",
            "Current minimum: -0.8067\n",
            "Iteration No: 10 started. Evaluating function at random point.\n",
            "Iteration No: 10 ended. Evaluation done at random point.\n",
            "Time taken: 2.4595\n",
            "Function value obtained: -0.7467\n",
            "Current minimum: -0.8067\n",
            "Iteration No: 11 started. Searching for the next optimal point.\n",
            "Iteration No: 11 ended. Search finished for the next optimal point.\n",
            "Time taken: 4.4016\n",
            "Function value obtained: -0.7933\n",
            "Current minimum: -0.8067\n",
            "Iteration No: 12 started. Searching for the next optimal point.\n",
            "Iteration No: 12 ended. Search finished for the next optimal point.\n",
            "Time taken: 4.3336\n",
            "Function value obtained: -0.7867\n",
            "Current minimum: -0.8067\n",
            "Iteration No: 13 started. Searching for the next optimal point.\n",
            "Iteration No: 13 ended. Search finished for the next optimal point.\n",
            "Time taken: 4.3458\n",
            "Function value obtained: -0.7733\n",
            "Current minimum: -0.8067\n",
            "Iteration No: 14 started. Searching for the next optimal point.\n",
            "Iteration No: 14 ended. Search finished for the next optimal point.\n",
            "Time taken: 1.2413\n",
            "Function value obtained: -0.8000\n",
            "Current minimum: -0.8067\n",
            "Iteration No: 15 started. Searching for the next optimal point.\n",
            "Iteration No: 15 ended. Search finished for the next optimal point.\n",
            "Time taken: 1.0594\n",
            "Function value obtained: -0.7800\n",
            "Current minimum: -0.8067\n"
          ],
          "name": "stdout"
        }
      ]
    },
    {
      "cell_type": "code",
      "metadata": {
        "id": "J4c37H7U28GK",
        "outputId": "93cf2b68-bc95-45af-9a1e-48acfa9e7715",
        "colab": {
          "base_uri": "https://localhost:8080/",
          "height": 34
        }
      },
      "source": [
        "print(dict(zip(param_names,result.x)))"
      ],
      "execution_count": 20,
      "outputs": [
        {
          "output_type": "stream",
          "text": [
            "{'max_depth': 4, 'n_estimators': 429, 'criterion': 'entropy', 'max_features': 0.7333104175258193}\n"
          ],
          "name": "stdout"
        }
      ]
    },
    {
      "cell_type": "code",
      "metadata": {
        "id": "cwO4ZW-h3iTZ"
      },
      "source": [
        ""
      ],
      "execution_count": null,
      "outputs": []
    }
  ]
}